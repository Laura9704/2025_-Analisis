{
  "nbformat": 4,
  "nbformat_minor": 0,
  "metadata": {
    "colab": {
      "provenance": [],
      "authorship_tag": "ABX9TyMIGboc8F4n9z5uFA68OJL0",
      "include_colab_link": true
    },
    "kernelspec": {
      "name": "python3",
      "display_name": "Python 3"
    },
    "language_info": {
      "name": "python"
    }
  },
  "cells": [
    {
      "cell_type": "markdown",
      "metadata": {
        "id": "view-in-github",
        "colab_type": "text"
      },
      "source": [
        "<a href=\"https://colab.research.google.com/github/Laura9704/2025_-Analisis/blob/main/An%C3%A1lisis_Bivariado.ipynb\" target=\"_parent\"><img src=\"https://colab.research.google.com/assets/colab-badge.svg\" alt=\"Open In Colab\"/></a>"
      ]
    },
    {
      "cell_type": "code",
      "execution_count": null,
      "metadata": {
        "id": "eV4Oq6JxXamq"
      },
      "outputs": [],
      "source": [
        "import pandas as pd\n",
        "import numpy as np\n",
        "import seaborn as sns\n",
        "import matplotlib.pyplot as plt\n",
        "\n",
        "from google.colab import drive\n",
        "drive.mount('/content/drive')\n",
        "sns.set_theme(style=\"whitegrid\")\n",
        "\n",
        "#llamado de la informacion\n",
        "data = pd.read_csv('/content/drive/MyDrive/CVD_cleaned.csv')"
      ]
    },
    {
      "cell_type": "markdown",
      "source": [
        " Análisis Bivariado\n",
        ""
      ],
      "metadata": {
        "id": "-_8ITRpAXi3U"
      }
    },
    {
      "cell_type": "code",
      "source": [],
      "metadata": {
        "id": "UYoGgPelXh4T"
      },
      "execution_count": null,
      "outputs": []
    }
  ]
}