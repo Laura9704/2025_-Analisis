{
  "nbformat": 4,
  "nbformat_minor": 0,
  "metadata": {
    "colab": {
      "provenance": [],
      "authorship_tag": "ABX9TyP0BRNZ9nK+J791Sgc+5c31",
      "include_colab_link": true
    },
    "kernelspec": {
      "name": "python3",
      "display_name": "Python 3"
    },
    "language_info": {
      "name": "python"
    }
  },
  "cells": [
    {
      "cell_type": "markdown",
      "metadata": {
        "id": "view-in-github",
        "colab_type": "text"
      },
      "source": [
        "<a href=\"https://colab.research.google.com/github/Laura9704/2025_-Analisis/blob/main/ANALISIS_UNIVARIADO.ipynb\" target=\"_parent\"><img src=\"https://colab.research.google.com/assets/colab-badge.svg\" alt=\"Open In Colab\"/></a>"
      ]
    },
    {
      "cell_type": "code",
      "source": [
        "import pandas as pd\n",
        "import numpy as np\n",
        "import seaborn as sns\n",
        "import matplotlib.pyplot as plt\n",
        "\n",
        "from google.colab import drive\n",
        "drive.mount('/content/drive')\n",
        "sns.set_theme(style=\"whitegrid\")\n",
        "\n",
        "#llamado de la informacion\n",
        "data = pd.read_csv('/content/drive/MyDrive/CVD_cleaned.csv')"
      ],
      "metadata": {
        "colab": {
          "base_uri": "https://localhost:8080/"
        },
        "id": "OBCXMtq7Y1ZM",
        "outputId": "fbe70717-67e0-4a2e-e2d4-ae2b3ddd57ab"
      },
      "execution_count": 1,
      "outputs": [
        {
          "output_type": "stream",
          "name": "stdout",
          "text": [
            "Mounted at /content/drive\n"
          ]
        }
      ]
    },
    {
      "cell_type": "markdown",
      "source": [
        "**INTRODUCCION**\n",
        "\n",
        "El presente trabajo se enfoca en detallar los pasos del analisis univariado a la informacion de la base del 2021 BRFSS Dataset from CDC;es el Sistema de Vigilancia de Factores de Riesgo Conductual (BRFSS) el cual es el principal sistema de encuestas telefónicas relacionadas con la salud donde se recopila datos estatales sobre los residentes de EE. UU en base a estilos de vida y salud, esta base consta con 19 caracteristicas para analisis de las cuales 7 son numericas y 12 son categoricas.Por ello este análisis univariado, se busca explorar y comprender las características fundamentales del conjunto de datos, como es la distribución, la tendencia central, la dispersión y los posibles patrones presentes en los datos antes de realizar análisis más complejos.\n",
        "\n",
        "Para llevar a cabo este análisis, se ha realizado una cuidadosa selección de variables,en base a estudios previos que modelan riesgo de enfermadades cardicas o cardiovasculares. tomando en cuenta su relevancia en el contexto del estudio. Las variables seleccionadas son:\n",
        "\n",
        "*   Elemento de lista\n",
        "*   Elemento de lista\n",
        "\n",
        "\n",
        "**SELECCIÓN DE LA VARIABLE**\n",
        "\n",
        "Para la seleccion de la variable se prosiguen los siguientes pasos de analisis en los datos de la base llamada CVD_cleaned.csv, la cual consiste en reconocimiento del tamano de la informacion la cual consta de 19 columnas o etiquetas con 308854 registros, de los cuales hay informacion categorica y numerica, a continuacion se anexala informacion de las batos en la base\n",
        "\n",
        "\n",
        "\n",
        "\n",
        "\n"
      ],
      "metadata": {
        "id": "cvvgeNg-RTdS"
      }
    },
    {
      "cell_type": "code",
      "source": [
        "print(\"Información del conjunto de datos:\\n\")\n",
        "data.info()"
      ],
      "metadata": {
        "colab": {
          "base_uri": "https://localhost:8080/"
        },
        "id": "X3c6dVSpYx0F",
        "outputId": "51e8dc60-57e1-4a10-e2e2-2de7ba264af7"
      },
      "execution_count": 2,
      "outputs": [
        {
          "output_type": "stream",
          "name": "stdout",
          "text": [
            "Información del conjunto de datos:\n",
            "\n",
            "<class 'pandas.core.frame.DataFrame'>\n",
            "RangeIndex: 308854 entries, 0 to 308853\n",
            "Data columns (total 19 columns):\n",
            " #   Column                        Non-Null Count   Dtype  \n",
            "---  ------                        --------------   -----  \n",
            " 0   General_Health                308854 non-null  object \n",
            " 1   Checkup                       308854 non-null  object \n",
            " 2   Exercise                      308854 non-null  object \n",
            " 3   Heart_Disease                 308854 non-null  object \n",
            " 4   Skin_Cancer                   308854 non-null  object \n",
            " 5   Other_Cancer                  308854 non-null  object \n",
            " 6   Depression                    308854 non-null  object \n",
            " 7   Diabetes                      308854 non-null  object \n",
            " 8   Arthritis                     308854 non-null  object \n",
            " 9   Sex                           308854 non-null  object \n",
            " 10  Age_Category                  308854 non-null  object \n",
            " 11  Height_(cm)                   308854 non-null  float64\n",
            " 12  Weight_(kg)                   308854 non-null  float64\n",
            " 13  BMI                           308854 non-null  float64\n",
            " 14  Smoking_History               308854 non-null  object \n",
            " 15  Alcohol_Consumption           308854 non-null  float64\n",
            " 16  Fruit_Consumption             308854 non-null  float64\n",
            " 17  Green_Vegetables_Consumption  308854 non-null  float64\n",
            " 18  FriedPotato_Consumption       308854 non-null  float64\n",
            "dtypes: float64(7), object(12)\n",
            "memory usage: 44.8+ MB\n"
          ]
        }
      ]
    },
    {
      "cell_type": "markdown",
      "source": [
        "\n",
        "*   **Variables Categoricas**:son aquellas que toman un número limitado de categorías o grupos. Estas variables no tienen un orden o un valor numérico específico, en la informacion del dataset se encuentran las variables:\n",
        "\n",
        " * **General_Health**: Esta variable representa la salud generial de los encuenstados por el BRFFSS, el cual tiene la siguiente distribucion la cual esta desbalanceada en el sentido de que una de las opciones tiene mayor siendo buena salud del 35.8% con respecto a una menor cantidad con pobre/mala con el 3.7% de los registro :\n",
        "\n",
        "       **Excellent:**  Se registraron 55,954 personas con una excelente salud general, esta representa el  **18.1%**  de los datos        \n",
        "\n",
        "      **Very Good:**  con 110395 registros de tener una muy buena salud general, representa el **35.8%**.\n",
        "\n",
        "       **Good:** con         95364 personas tienen una salud buena, con el **30.9%**\n",
        "\n",
        "       **Fair:** con          35810  regristros para normal(regular) de salud, con el valor del **11.6%**\n",
        "\n",
        "       **Poor:** con          11331 de tener una salud pobre, con el **3.7%**\n",
        "  \n",
        "  esta variable no es muy representativa en el analisis del resgo de una enfermedad cardica, ya que como caracteristica es demasiado general dentro al contexto a analizar, por lo cual no proporciona informacion especifica ni relevante sobre los riesgos cordiovasculares que deben considerarse para evaluar adecuadamente el riesgo de enfermedad cardíaca\n",
        "\n",
        " * **Checkup**: esta caracteristica representa la frecuencia de tiempo vs cuanto tiempo ha transcurrido desde que se realiza un cheque o revision medica, la cual tiene como opciones en la revison de la informacion las siguientes\n",
        "\n",
        "      **Within the past year**: con  239371 registros de una revision dentro del ultimo año, la cual representa un **77.5%** el cual es un alto indice dentro de los datos obtinidos nos preprenta un desbalance en las proporcion de distribucion de los datos para esta caracteristica\n",
        "      \n",
        "      **Within the past 2 years**: con     37213 registros para chequeos dentro de los ultimos años representa el **12.1%** de los datos, siendo  una representacion algo significativa para la clasificacion.\n",
        "      \n",
        "      **Within the past 5 years**: con    17442 registros de visitas de chequeo al medico dentro de los ultimos 5 años represnta un **5.7%**, de lo cual se puede intrepretar que los encuentados tiene una baja revision de salud\n",
        "      \n",
        "      **5 or more years ago**         13421\n",
        "      \n",
        "      **Never**                        1407\n",
        "   \n",
        "Exercise\n",
        "Heart_Disease\n",
        "Skin_Cancer\n",
        "Other_Cancer\n",
        "Depression, Diabetes\n",
        "Arthritis\n",
        "Sex\n",
        "Age_Category\n",
        "Smoking_History\n",
        "\n",
        "*   **Variables numericas**:on aquellas que toman valores numéricos y pueden ser medidas o cuantificadas. como son las variables  Height_(cm),Weight_(kg), BMI, Alcohol_Consumption, Fruit_Consumption,Green_Vegetables_Consumption,FriedPotato_Consumption"
      ],
      "metadata": {
        "id": "bZHaucfyZD37"
      }
    },
    {
      "cell_type": "code",
      "source": [
        "plt.figure(figsize=(10, 6))\n",
        "sns.countplot(x='General_Health', data=data)\n",
        "plt.xticks(rotation=45)\n",
        "plt.show()\n"
      ],
      "metadata": {
        "colab": {
          "base_uri": "https://localhost:8080/",
          "height": 602
        },
        "id": "413JoHtKeBuo",
        "outputId": "cf0efda4-4985-4aa4-e781-949219c5522b"
      },
      "execution_count": 5,
      "outputs": [
        {
          "output_type": "display_data",
          "data": {
            "text/plain": [
              "<Figure size 1000x600 with 1 Axes>"
            ],
            "image/png": "[encoded data removed]"
          },
          "metadata": {}
        }
      ]
    },
    {
      "cell_type": "markdown",
      "source": [],
      "metadata": {
        "id": "tMjLGFierMNX"
      }
    }
  ]
}